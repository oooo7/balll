{
  "nbformat": 4,
  "nbformat_minor": 0,
  "metadata": {
    "colab": {
      "provenance": [],
      "authorship_tag": "ABX9TyOwtpt4web3p9sQlGyVxSUN",
      "include_colab_link": true
    },
    "kernelspec": {
      "name": "python3",
      "display_name": "Python 3"
    },
    "language_info": {
      "name": "python"
    }
  },
  "cells": [
    {
      "cell_type": "markdown",
      "metadata": {
        "id": "view-in-github",
        "colab_type": "text"
      },
      "source": [
        "<a href=\"https://colab.research.google.com/github/oooo7/balll/blob/main/Untitled2.ipynb\" target=\"_parent\"><img src=\"https://colab.research.google.com/assets/colab-badge.svg\" alt=\"Open In Colab\"/></a>"
      ]
    },
    {
      "cell_type": "code",
      "execution_count": null,
      "metadata": {
        "colab": {
          "base_uri": "https://localhost:8080/"
        },
        "id": "maKsuLjXgPH8",
        "outputId": "162bf5ac-6f78-428a-a821-4fec1543a9bc"
      },
      "outputs": [
        {
          "output_type": "stream",
          "name": "stdout",
          "text": [
            "['bread', 'onion', 'lettuce', 'Sauce', 'cheese', 'tomato', 'bread']\n"
          ]
        }
      ],
      "source": [
        "sandwich=[\"bread\",\"onion\",\"lettuce\",\"Sauce\",\"cheese\",\"tomato\",\"bread\"]\n",
        "print(sandwich)"
      ]
    },
    {
      "cell_type": "code",
      "source": [
        "sandwich[1:6]"
      ],
      "metadata": {
        "colab": {
          "base_uri": "https://localhost:8080/"
        },
        "id": "MYm_5IYPhP77",
        "outputId": "8bdd5556-4af0-4bd5-cab3-37546e64aa31"
      },
      "execution_count": null,
      "outputs": [
        {
          "output_type": "execute_result",
          "data": {
            "text/plain": [
              "['onion', 'lettuce', 'Sauce', 'cheese', 'tomato']"
            ]
          },
          "metadata": {},
          "execution_count": 11
        }
      ]
    },
    {
      "cell_type": "code",
      "source": [
        "sandwich[0:7:2]"
      ],
      "metadata": {
        "colab": {
          "base_uri": "https://localhost:8080/"
        },
        "id": "1wwHNbaXiATY",
        "outputId": "e95b79d9-22d4-44a4-82d6-96280c98f1db"
      },
      "execution_count": null,
      "outputs": [
        {
          "output_type": "execute_result",
          "data": {
            "text/plain": [
              "['bread', 'lettuce', 'cheese', 'bread']"
            ]
          },
          "metadata": {},
          "execution_count": 13
        }
      ]
    }
  ]
}