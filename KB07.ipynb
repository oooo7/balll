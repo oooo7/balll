{
  "nbformat": 4,
  "nbformat_minor": 0,
  "metadata": {
    "colab": {
      "provenance": [],
      "authorship_tag": "ABX9TyMraBAVkRmlsf1edZ47nhNu",
      "include_colab_link": true
    },
    "kernelspec": {
      "name": "python3",
      "display_name": "Python 3"
    },
    "language_info": {
      "name": "python"
    }
  },
  "cells": [
    {
      "cell_type": "markdown",
      "metadata": {
        "id": "view-in-github",
        "colab_type": "text"
      },
      "source": [
        "<a href=\"https://colab.research.google.com/github/oooo7/balll/blob/main/KB07.ipynb\" target=\"_parent\"><img src=\"https://colab.research.google.com/assets/colab-badge.svg\" alt=\"Open In Colab\"/></a>"
      ]
    },
    {
      "cell_type": "code",
      "execution_count": 4,
      "metadata": {
        "id": "-NoOu5u3sCYf"
      },
      "outputs": [],
      "source": [
        "# Define Class\n",
        "class Contact_Details:\n",
        "\n",
        "    # Define Attributes of class  \n",
        "    def __init__(self, name, mobile_number, email, address):\n",
        "        self.contact_name = name\n",
        "        self.contact_number = mobile_number\n",
        "        self.email = email\n",
        "        self.contact_address = address       \n",
        "\n",
        "        # Make a dictionary of the contact details \n",
        "        self.person = {\n",
        "            \"name\": self.contact_name,\n",
        "            \"mobile\" : self.contact_number,\n",
        "            \"email\": self.email,\n",
        "            \"address\": self.contact_address\n",
        "        } \n",
        "       \n",
        "\n",
        "    # Define Methods of class\n",
        "    def view_contact_details(self, contact_list): \n",
        "         print(contact_list)\n",
        "\n",
        "    # Add the contact details to the list    \n",
        "    def add_contact_details(self, contact_list):      \n",
        "      contact_list.append(self.person)\n",
        "\n",
        "    # REPLACE THIS COMMENT WITH CODE#"
      ]
    },
    {
      "cell_type": "code",
      "source": [
        "# Create Object of the class\n",
        "phonebook_list=[] \n",
        "#object name=classname \n",
        "new_contact=Contact_Details(\"krissh\",000000,\"07@gmail.com\",\"abc\")\n"
      ],
      "metadata": {
        "id": "_-VZw9BCsXdq"
      },
      "execution_count": 10,
      "outputs": []
    },
    {
      "cell_type": "code",
      "source": [
        "# Call Methods of the class\n",
        "new_contact.add_contact_details(phonebook_list)\n"
      ],
      "metadata": {
        "id": "JMTnp54EsaLp"
      },
      "execution_count": 12,
      "outputs": []
    },
    {
      "cell_type": "code",
      "source": [
        "new_contact.view_contact_details(phonebook_list)"
      ],
      "metadata": {
        "colab": {
          "base_uri": "https://localhost:8080/"
        },
        "id": "ip4QDx1pttH9",
        "outputId": "d450b3f2-eab4-4c9a-87b7-ac9a157ccc09"
      },
      "execution_count": 13,
      "outputs": [
        {
          "output_type": "stream",
          "name": "stdout",
          "text": [
            "[{'name': 'krissh', 'mobile': 0, 'email': '07@gmail.com', 'address': 'abc'}, {'name': 'krissh', 'mobile': 0, 'email': '07@gmail.com', 'address': 'abc'}]\n"
          ]
        }
      ]
    },
    {
      "cell_type": "code",
      "source": [
        "new_contact=Contact_Details(\"ishpreet\",111111,\"ac@gmail.com\",\"xzy\")"
      ],
      "metadata": {
        "id": "jEXtjiiBtxUs"
      },
      "execution_count": 14,
      "outputs": []
    },
    {
      "cell_type": "code",
      "source": [
        "new_contact.add_contact_details(phonebook_list)"
      ],
      "metadata": {
        "id": "VRAavJHPuDuA"
      },
      "execution_count": 15,
      "outputs": []
    },
    {
      "cell_type": "code",
      "source": [
        "new_contact.view_contact_details(phonebook_list)"
      ],
      "metadata": {
        "colab": {
          "base_uri": "https://localhost:8080/"
        },
        "id": "1Ot_uVZCuOoP",
        "outputId": "66327de0-e859-4b9a-fadd-9e73e51f98e9"
      },
      "execution_count": 19,
      "outputs": [
        {
          "output_type": "stream",
          "name": "stdout",
          "text": [
            "[{'name': 'krissh', 'mobile': 0, 'email': '07@gmail.com', 'address': 'abc'}, {'name': 'krissh', 'mobile': 0, 'email': '07@gmail.com', 'address': 'abc'}, {'name': 'ishpreet', 'mobile': 111111, 'email': 'ac@gmail.com', 'address': 'xzy'}, {'name': 'ishpreet', 'mobile': 111111, 'email': 'ac@gmail.com', 'address': 'xzy'}, {'name': 'ishpreet', 'mobile': 111111, 'email': 'ac@gmail.com', 'address': 'xzy'}, {'name': 'ishpreet', 'mobile': 111111, 'email': 'ac@gmail.com', 'address': 'xzy'}]\n"
          ]
        }
      ]
    }
  ]
}