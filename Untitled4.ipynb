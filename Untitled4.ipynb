{
  "nbformat": 4,
  "nbformat_minor": 0,
  "metadata": {
    "colab": {
      "provenance": [],
      "authorship_tag": "ABX9TyOEfLCcxs4HA/ImST7jSfB3",
      "include_colab_link": true
    },
    "kernelspec": {
      "name": "python3",
      "display_name": "Python 3"
    },
    "language_info": {
      "name": "python"
    }
  },
  "cells": [
    {
      "cell_type": "markdown",
      "metadata": {
        "id": "view-in-github",
        "colab_type": "text"
      },
      "source": [
        "<a href=\"https://colab.research.google.com/github/oooo7/balll/blob/main/Untitled4.ipynb\" target=\"_parent\"><img src=\"https://colab.research.google.com/assets/colab-badge.svg\" alt=\"Open In Colab\"/></a>"
      ]
    },
    {
      "cell_type": "code",
      "source": [
        "marks = [2,3,4,10,12,14,12,13,3,4,5,67,10,3,5,6,3]\n",
        "count = marks.count(12)\n",
        "print('The count of element:', count)"
      ],
      "metadata": {
        "colab": {
          "base_uri": "https://localhost:8080/"
        },
        "id": "bCbOlK4opM5M",
        "outputId": "a9a33d45-471f-4778-a373-32202abcc3f6"
      },
      "execution_count": 14,
      "outputs": [
        {
          "output_type": "stream",
          "name": "stdout",
          "text": [
            "The count of element: 2\n"
          ]
        }
      ]
    },
    {
      "cell_type": "code",
      "source": [
        "my_list = ['chicken', 'hotdog', 'beef','pork']\n",
        "\n",
        "\n",
        "for count, item in enumerate(my_list, start=1):\n",
        "    print(count, item)"
      ],
      "metadata": {
        "colab": {
          "base_uri": "https://localhost:8080/"
        },
        "id": "EYNCWRkIqmju",
        "outputId": "7be2498f-b8a3-4ade-d5b5-a3922c25388b"
      },
      "execution_count": 15,
      "outputs": [
        {
          "output_type": "stream",
          "name": "stdout",
          "text": [
            "1 chicken\n",
            "2 hotdog\n",
            "3 beef\n",
            "4 pork\n"
          ]
        }
      ]
    }
  ]
}