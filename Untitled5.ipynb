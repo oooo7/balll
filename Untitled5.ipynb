{
  "nbformat": 4,
  "nbformat_minor": 0,
  "metadata": {
    "colab": {
      "provenance": [],
      "authorship_tag": "ABX9TyOC0+RGMRT0dm87JETyHMmo",
      "include_colab_link": true
    },
    "kernelspec": {
      "name": "python3",
      "display_name": "Python 3"
    },
    "language_info": {
      "name": "python"
    }
  },
  "cells": [
    {
      "cell_type": "markdown",
      "metadata": {
        "id": "view-in-github",
        "colab_type": "text"
      },
      "source": [
        "<a href=\"https://colab.research.google.com/github/oooo7/balll/blob/main/Untitled5.ipynb\" target=\"_parent\"><img src=\"https://colab.research.google.com/assets/colab-badge.svg\" alt=\"Open In Colab\"/></a>"
      ]
    },
    {
      "cell_type": "code",
      "execution_count": 9,
      "metadata": {
        "colab": {
          "base_uri": "https://localhost:8080/"
        },
        "id": "6OKS8D3fsEfD",
        "outputId": "e4fbe28f-e414-4aeb-f3b1-eb3cd2885bc9"
      },
      "outputs": [
        {
          "output_type": "stream",
          "name": "stdout",
          "text": [
            "['maths', '90', 'english', '80', 'history', '75', 'art', '85']\n",
            "['maths', 'english', 'history', 'art']\n",
            "['90', '80', '75', '85']\n"
          ]
        }
      ],
      "source": [
        "marks=['maths','90','english','80','history','75','art','85']\n",
        "print(marks)\n",
        "print(marks[0:9:2])\n",
        "print(marks[1:9:2])"
      ]
    }
  ]
}